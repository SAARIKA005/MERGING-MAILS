{
  "nbformat": 4,
  "nbformat_minor": 0,
  "metadata": {
    "colab": {
      "name": "code",
      "provenance": [],
      "collapsed_sections": []
    },
    "kernelspec": {
      "name": "python3",
      "display_name": "Python 3"
    },
    "language_info": {
      "name": "python"
    }
  },
  "cells": [
    {
      "cell_type": "code",
      "source": [
        "with open(\"names.txt\", 'r', encoding='utf-8') as names_file:\n",
        "\n",
        "    # open body.txt for reading\n",
        "    with open(\"body.txt\", 'r', encoding='utf-8') as body_file:\n",
        "\n",
        "        # read entire content of the body\n",
        "        body = body_file.read()\n",
        "\n",
        "        # iterate over names\n",
        "        for name in names_file:\n",
        "            mail = \"Hello \" + name.strip() + \"\\n\" + body\n",
        "\n",
        "            # write the mails to individual files\n",
        "            with open(name.strip()+\".txt\", 'w', encoding='utf-8') as mail_file:\n",
        "                mail_file.write(mail)"
      ],
      "metadata": {
        "id": "WhAUMC63bS8L"
      },
      "execution_count": null,
      "outputs": []
    }
  ]
}